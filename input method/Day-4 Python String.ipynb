{
 "cells": [
  {
   "cell_type": "code",
   "execution_count": 2,
   "id": "3a8bf265",
   "metadata": {},
   "outputs": [
    {
     "data": {
      "text/plain": [
       "'this is string'"
      ]
     },
     "execution_count": 2,
     "metadata": {},
     "output_type": "execute_result"
    }
   ],
   "source": [
    "\"this is string\" #create a string "
   ]
  },
  {
   "cell_type": "code",
   "execution_count": 3,
   "id": "782782c1",
   "metadata": {},
   "outputs": [],
   "source": [
    "my_str = 'string in single quotes'  #single quotes can be used around characters"
   ]
  },
  {
   "cell_type": "code",
   "execution_count": 4,
   "id": "49c8bd35",
   "metadata": {},
   "outputs": [
    {
     "data": {
      "text/plain": [
       "'string in single quotes'"
      ]
     },
     "execution_count": 4,
     "metadata": {},
     "output_type": "execute_result"
    }
   ],
   "source": [
    "my_str"
   ]
  },
  {
   "cell_type": "code",
   "execution_count": 5,
   "id": "66be56f6",
   "metadata": {},
   "outputs": [],
   "source": [
    "my_str2 = \"string in single quotes\"  #double quotes can be used around characters"
   ]
  },
  {
   "cell_type": "code",
   "execution_count": 6,
   "id": "03dd3cbc",
   "metadata": {},
   "outputs": [],
   "source": [
    "my_str3 = \"\"\"string is spread \n",
    "acroos multiple lines\"\"\"  #triple quotes can be used to create multi line strings"
   ]
  },
  {
   "cell_type": "code",
   "execution_count": 7,
   "id": "3e5fc638",
   "metadata": {},
   "outputs": [
    {
     "data": {
      "text/plain": [
       "str"
      ]
     },
     "execution_count": 7,
     "metadata": {},
     "output_type": "execute_result"
    }
   ],
   "source": [
    "type(my_str)  #use type to check the type of string variable"
   ]
  },
  {
   "cell_type": "code",
   "execution_count": 8,
   "id": "dbcf53c3",
   "metadata": {},
   "outputs": [],
   "source": [
    "string_with_spaces = \" x y 1 2 3 \" #string can have spaces in it"
   ]
  },
  {
   "cell_type": "code",
   "execution_count": 9,
   "id": "e20b8a99",
   "metadata": {},
   "outputs": [
    {
     "data": {
      "text/plain": [
       "' x y 1 2 3 '"
      ]
     },
     "execution_count": 9,
     "metadata": {},
     "output_type": "execute_result"
    }
   ],
   "source": [
    "string_with_spaces"
   ]
  },
  {
   "cell_type": "code",
   "execution_count": 10,
   "id": "98382145",
   "metadata": {},
   "outputs": [],
   "source": [
    "string_with_special_characters = \"#$%@\""
   ]
  },
  {
   "cell_type": "code",
   "execution_count": 11,
   "id": "fb0f764e",
   "metadata": {},
   "outputs": [
    {
     "data": {
      "text/plain": [
       "'#$%@'"
      ]
     },
     "execution_count": 11,
     "metadata": {},
     "output_type": "execute_result"
    }
   ],
   "source": [
    "string_with_special_characters"
   ]
  },
  {
   "cell_type": "code",
   "execution_count": 14,
   "id": "572d99df",
   "metadata": {},
   "outputs": [],
   "source": [
    "empty_string = '    '  #empty string has nothing in it"
   ]
  },
  {
   "cell_type": "code",
   "execution_count": 15,
   "id": "1d1ff2d1",
   "metadata": {},
   "outputs": [
    {
     "data": {
      "text/plain": [
       "'    '"
      ]
     },
     "execution_count": 15,
     "metadata": {},
     "output_type": "execute_result"
    }
   ],
   "source": [
    "empty_string"
   ]
  },
  {
   "cell_type": "code",
   "execution_count": 18,
   "id": "a5ab544e",
   "metadata": {},
   "outputs": [
    {
     "data": {
      "text/plain": [
       "14"
      ]
     },
     "execution_count": 18,
     "metadata": {},
     "output_type": "execute_result"
    }
   ],
   "source": [
    "len('this is string')"
   ]
  },
  {
   "cell_type": "code",
   "execution_count": 19,
   "id": "b3a55036",
   "metadata": {},
   "outputs": [
    {
     "data": {
      "text/plain": [
       "4"
      ]
     },
     "execution_count": 19,
     "metadata": {},
     "output_type": "execute_result"
    }
   ],
   "source": [
    "len(empty_string)  #len can be use to determine the length of string"
   ]
  },
  {
   "cell_type": "code",
   "execution_count": 20,
   "id": "0f992564",
   "metadata": {},
   "outputs": [
    {
     "data": {
      "text/plain": [
       "23"
      ]
     },
     "execution_count": 20,
     "metadata": {},
     "output_type": "execute_result"
    }
   ],
   "source": [
    "len(my_str)"
   ]
  },
  {
   "cell_type": "code",
   "execution_count": 25,
   "id": "f1844677",
   "metadata": {},
   "outputs": [
    {
     "data": {
      "text/plain": [
       "'string in single quotes string are useful'"
      ]
     },
     "execution_count": 25,
     "metadata": {},
     "output_type": "execute_result"
    }
   ],
   "source": [
    "my_str + \" string are useful\""
   ]
  },
  {
   "cell_type": "code",
   "execution_count": 29,
   "id": "711f79d4",
   "metadata": {},
   "outputs": [
    {
     "data": {
      "text/plain": [
       "'string in single quotes string in single quotes'"
      ]
     },
     "execution_count": 29,
     "metadata": {},
     "output_type": "execute_result"
    }
   ],
   "source": [
    "my_str + \" \"+ my_str2 # string concatenation "
   ]
  },
  {
   "cell_type": "code",
   "execution_count": 32,
   "id": "6804876c",
   "metadata": {},
   "outputs": [
    {
     "data": {
      "text/plain": [
       "'string in single quotes string in single quotes string in single quotes '"
      ]
     },
     "execution_count": 32,
     "metadata": {},
     "output_type": "execute_result"
    }
   ],
   "source": [
    "(my_str+ \" \" ) * 3 #string repetition"
   ]
  },
  {
   "cell_type": "code",
   "execution_count": 36,
   "id": "4537a8a0",
   "metadata": {},
   "outputs": [
    {
     "data": {
      "text/plain": [
       "'####################'"
      ]
     },
     "execution_count": 36,
     "metadata": {},
     "output_type": "execute_result"
    }
   ],
   "source": [
    "'#'*20"
   ]
  },
  {
   "cell_type": "code",
   "execution_count": 37,
   "id": "a0925593",
   "metadata": {},
   "outputs": [],
   "source": [
    "my_string = 'this is my string'"
   ]
  },
  {
   "cell_type": "code",
   "execution_count": 38,
   "id": "a204e158",
   "metadata": {},
   "outputs": [
    {
     "data": {
      "text/plain": [
       "'t'"
      ]
     },
     "execution_count": 38,
     "metadata": {},
     "output_type": "execute_result"
    }
   ],
   "source": [
    "my_string[0]   # accessing first character of string"
   ]
  },
  {
   "cell_type": "code",
   "execution_count": 39,
   "id": "e08cf0a7",
   "metadata": {},
   "outputs": [
    {
     "data": {
      "text/plain": [
       "' '"
      ]
     },
     "execution_count": 39,
     "metadata": {},
     "output_type": "execute_result"
    }
   ],
   "source": [
    "my_string[4]"
   ]
  },
  {
   "cell_type": "code",
   "execution_count": 41,
   "id": "114a9ff7",
   "metadata": {},
   "outputs": [
    {
     "ename": "IndexError",
     "evalue": "string index out of range",
     "output_type": "error",
     "traceback": [
      "\u001b[1;31m---------------------------------------------------------------------------\u001b[0m",
      "\u001b[1;31mIndexError\u001b[0m                                Traceback (most recent call last)",
      "Cell \u001b[1;32mIn[41], line 2\u001b[0m\n\u001b[0;32m      1\u001b[0m length \u001b[38;5;241m=\u001b[39m \u001b[38;5;28mlen\u001b[39m(my_string)  \u001b[38;5;66;03m#accessing last character of string, gives error as index has to be one less than length of string\u001b[39;00m\n\u001b[1;32m----> 2\u001b[0m \u001b[43mmy_string\u001b[49m\u001b[43m[\u001b[49m\u001b[43mlength\u001b[49m\u001b[43m]\u001b[49m\n",
      "\u001b[1;31mIndexError\u001b[0m: string index out of range"
     ]
    }
   ],
   "source": [
    "length = len(my_string)  #accessing last character of string, gives error as index has to be one less than length of string\n",
    "my_string[length]"
   ]
  },
  {
   "cell_type": "code",
   "execution_count": 44,
   "id": "98b7ac5f",
   "metadata": {},
   "outputs": [
    {
     "data": {
      "text/plain": [
       "'i'"
      ]
     },
     "execution_count": 44,
     "metadata": {},
     "output_type": "execute_result"
    }
   ],
   "source": [
    "length1 = \"this my string 2\"\n",
    "length1[2]"
   ]
  },
  {
   "cell_type": "code",
   "execution_count": 45,
   "id": "82da353a",
   "metadata": {},
   "outputs": [
    {
     "data": {
      "text/plain": [
       "'g'"
      ]
     },
     "execution_count": 45,
     "metadata": {},
     "output_type": "execute_result"
    }
   ],
   "source": [
    "length = len(my_string)\n",
    "my_string[length - 1]"
   ]
  },
  {
   "cell_type": "code",
   "execution_count": 46,
   "id": "b5b9eec7",
   "metadata": {},
   "outputs": [
    {
     "data": {
      "text/plain": [
       "'g'"
      ]
     },
     "execution_count": 46,
     "metadata": {},
     "output_type": "execute_result"
    }
   ],
   "source": [
    "my_string[-1] # accessing last character of string using negative indexing"
   ]
  },
  {
   "cell_type": "markdown",
   "id": "6c89ced1",
   "metadata": {},
   "source": [
    "# slicing operation"
   ]
  },
  {
   "cell_type": "code",
   "execution_count": 47,
   "id": "698bb8cd",
   "metadata": {},
   "outputs": [],
   "source": [
    "my_string = 'this is my string'"
   ]
  },
  {
   "cell_type": "code",
   "execution_count": 51,
   "id": "9ea6e68b",
   "metadata": {},
   "outputs": [
    {
     "data": {
      "text/plain": [
       "'this is my string'"
      ]
     },
     "execution_count": 51,
     "metadata": {},
     "output_type": "execute_result"
    }
   ],
   "source": [
    "my_string[ : ]  # extracts complete string"
   ]
  },
  {
   "cell_type": "code",
   "execution_count": 52,
   "id": "8bfcb58f",
   "metadata": {},
   "outputs": [
    {
     "data": {
      "text/plain": [
       "'this'"
      ]
     },
     "execution_count": 52,
     "metadata": {},
     "output_type": "execute_result"
    }
   ],
   "source": [
    "my_string[ 0 : 4 ]  # extracts first three characters of string"
   ]
  },
  {
   "cell_type": "code",
   "execution_count": 53,
   "id": "f9ca3dc8",
   "metadata": {},
   "outputs": [
    {
     "data": {
      "text/plain": [
       "'is my'"
      ]
     },
     "execution_count": 53,
     "metadata": {},
     "output_type": "execute_result"
    }
   ],
   "source": [
    "my_string[ 5 : 10 ]  # extracts fifth to ninth character of string"
   ]
  },
  {
   "cell_type": "code",
   "execution_count": 54,
   "id": "dca1f838",
   "metadata": {},
   "outputs": [
    {
     "data": {
      "text/plain": [
       "'s is my string'"
      ]
     },
     "execution_count": 54,
     "metadata": {},
     "output_type": "execute_result"
    }
   ],
   "source": [
    "my_string[ 3 :  ]  # extract all characters of string from third character onwards"
   ]
  },
  {
   "cell_type": "code",
   "execution_count": 56,
   "id": "af55cc13",
   "metadata": {},
   "outputs": [
    {
     "data": {
      "text/plain": [
       "'this is'"
      ]
     },
     "execution_count": 56,
     "metadata": {},
     "output_type": "execute_result"
    }
   ],
   "source": [
    "my_string[  : 7 ]  # extracts first four characters of string"
   ]
  },
  {
   "cell_type": "code",
   "execution_count": 59,
   "id": "34cfc6da",
   "metadata": {},
   "outputs": [
    {
     "data": {
      "text/plain": [
       "'ti sm'"
      ]
     },
     "execution_count": 59,
     "metadata": {},
     "output_type": "execute_result"
    }
   ],
   "source": [
    "my_string[ 0 : 10 : 2] # from first to nineth character, extract every second character"
   ]
  },
  {
   "cell_type": "code",
   "execution_count": 60,
   "id": "f4226f05",
   "metadata": {},
   "outputs": [
    {
     "data": {
      "text/plain": [
       "'this is my string'"
      ]
     },
     "execution_count": 60,
     "metadata": {},
     "output_type": "execute_result"
    }
   ],
   "source": [
    "my_string"
   ]
  },
  {
   "cell_type": "code",
   "execution_count": 61,
   "id": "cde6fac7",
   "metadata": {},
   "outputs": [
    {
     "data": {
      "text/plain": [
       "'tring'"
      ]
     },
     "execution_count": 61,
     "metadata": {},
     "output_type": "execute_result"
    }
   ],
   "source": [
    "my_string[-5 : ] # extract last five characters of string"
   ]
  },
  {
   "cell_type": "code",
   "execution_count": 65,
   "id": "a27f3cb1",
   "metadata": {},
   "outputs": [
    {
     "data": {
      "text/plain": [
       "'tri'"
      ]
     },
     "execution_count": 65,
     "metadata": {},
     "output_type": "execute_result"
    }
   ],
   "source": [
    "my_string[-5 : -2 ]"
   ]
  },
  {
   "cell_type": "markdown",
   "id": "4f85f827",
   "metadata": {},
   "source": [
    "# Escape Sequences"
   ]
  },
  {
   "cell_type": "code",
   "execution_count": 67,
   "id": "587746b8",
   "metadata": {},
   "outputs": [
    {
     "name": "stdout",
     "output_type": "stream",
     "text": [
      " Python is beautiful! \n",
      " I love Python!\n"
     ]
    }
   ],
   "source": [
    "print(\" Python is beautiful! \\n I love Python!\" )   #The output is given by a new line "
   ]
  },
  {
   "cell_type": "code",
   "execution_count": 68,
   "id": "222a4830",
   "metadata": {},
   "outputs": [
    {
     "name": "stdout",
     "output_type": "stream",
     "text": [
      " Python is beautiful! \t I love Python!\n"
     ]
    }
   ],
   "source": [
    "print(\" Python is beautiful! \\t I love Python!\" ) # back slash \"t\" represents a tab"
   ]
  },
  {
   "cell_type": "code",
   "execution_count": 72,
   "id": "64b7cb4d",
   "metadata": {},
   "outputs": [
    {
     "name": "stdout",
     "output_type": "stream",
     "text": [
      " Python is beautiful! \\ I love Python!\n"
     ]
    }
   ],
   "source": [
    "print(\" Python is beautiful! \\\\ I love Python!\" )  # to place a back slash in your string, use a double back slash"
   ]
  },
  {
   "cell_type": "markdown",
   "id": "24fc260f",
   "metadata": {},
   "source": [
    "# The in operator"
   ]
  },
  {
   "cell_type": "code",
   "execution_count": 73,
   "id": "64cf97f6",
   "metadata": {},
   "outputs": [],
   "source": [
    "my_string = \"this is string\""
   ]
  },
  {
   "cell_type": "code",
   "execution_count": 74,
   "id": "b30bbc19",
   "metadata": {},
   "outputs": [
    {
     "data": {
      "text/plain": [
       "True"
      ]
     },
     "execution_count": 74,
     "metadata": {},
     "output_type": "execute_result"
    }
   ],
   "source": [
    "'i' in my_string   #check whether i is present in string"
   ]
  },
  {
   "cell_type": "code",
   "execution_count": 75,
   "id": "2c1fbbb5",
   "metadata": {},
   "outputs": [
    {
     "data": {
      "text/plain": [
       "False"
      ]
     },
     "execution_count": 75,
     "metadata": {},
     "output_type": "execute_result"
    }
   ],
   "source": [
    "'z' in my_string "
   ]
  },
  {
   "cell_type": "code",
   "execution_count": 76,
   "id": "50b7a436",
   "metadata": {},
   "outputs": [
    {
     "data": {
      "text/plain": [
       "False"
      ]
     },
     "execution_count": 76,
     "metadata": {},
     "output_type": "execute_result"
    }
   ],
   "source": [
    "'i' not in my_string # check whether is is not present in string"
   ]
  },
  {
   "cell_type": "code",
   "execution_count": 77,
   "id": "9ced1bab",
   "metadata": {},
   "outputs": [
    {
     "data": {
      "text/plain": [
       "True"
      ]
     },
     "execution_count": 77,
     "metadata": {},
     "output_type": "execute_result"
    }
   ],
   "source": [
    "'z' not in my_string"
   ]
  },
  {
   "cell_type": "code",
   "execution_count": 78,
   "id": "69c2c84c",
   "metadata": {},
   "outputs": [
    {
     "data": {
      "text/plain": [
       "True"
      ]
     },
     "execution_count": 78,
     "metadata": {},
     "output_type": "execute_result"
    }
   ],
   "source": [
    "'this' in my_string"
   ]
  },
  {
   "cell_type": "code",
   "execution_count": 79,
   "id": "52b03fae",
   "metadata": {},
   "outputs": [
    {
     "data": {
      "text/plain": [
       "False"
      ]
     },
     "execution_count": 79,
     "metadata": {},
     "output_type": "execute_result"
    }
   ],
   "source": [
    "'this' not in my_string"
   ]
  },
  {
   "cell_type": "markdown",
   "id": "4e3e5897",
   "metadata": {},
   "source": [
    "# Immutability"
   ]
  },
  {
   "cell_type": "code",
   "execution_count": 82,
   "id": "d55e00f2",
   "metadata": {},
   "outputs": [],
   "source": [
    "my_string = \"this is my string\""
   ]
  },
  {
   "cell_type": "code",
   "execution_count": 83,
   "id": "815d1767",
   "metadata": {},
   "outputs": [
    {
     "ename": "TypeError",
     "evalue": "'str' object does not support item assignment",
     "output_type": "error",
     "traceback": [
      "\u001b[1;31m---------------------------------------------------------------------------\u001b[0m",
      "\u001b[1;31mTypeError\u001b[0m                                 Traceback (most recent call last)",
      "Cell \u001b[1;32mIn[83], line 1\u001b[0m\n\u001b[1;32m----> 1\u001b[0m \u001b[43mmy_string\u001b[49m\u001b[43m[\u001b[49m\u001b[38;5;241;43m0\u001b[39;49m\u001b[43m]\u001b[49m \u001b[38;5;241m=\u001b[39m \u001b[38;5;124m'\u001b[39m\u001b[38;5;124mp\u001b[39m\u001b[38;5;124m'\u001b[39m   \u001b[38;5;66;03m# not allowed, as strings are immutable i.e. can not be modified\u001b[39;00m\n",
      "\u001b[1;31mTypeError\u001b[0m: 'str' object does not support item assignment"
     ]
    }
   ],
   "source": [
    "my_string[0] = 'p'   # not allowed, as strings are immutable i.e. can not be modified"
   ]
  },
  {
   "cell_type": "code",
   "execution_count": 84,
   "id": "9c447793",
   "metadata": {},
   "outputs": [],
   "source": [
    "my_string = 'this is new string'  \n",
    "# You can assign some different value to the string variable but its currently assigned value can not be changed"
   ]
  },
  {
   "cell_type": "code",
   "execution_count": 89,
   "id": "a92f4a74",
   "metadata": {},
   "outputs": [
    {
     "name": "stdout",
     "output_type": "stream",
     "text": [
      "Original string ---->  this is my string\n",
      "Modified string ---->  phis is my\n"
     ]
    }
   ],
   "source": [
    "my_string = \"this is my string\"\n",
    "\n",
    "first_char = 'p'                   \n",
    "my_new_string = first_char +  my_string[1:10] # concat the part to be changed to the remaining part of string\n",
    "\n",
    "print(\"Original string ----> \", my_string)\n",
    "print(\"Modified string ----> \", my_new_string)"
   ]
  },
  {
   "cell_type": "markdown",
   "id": "d28e1acb",
   "metadata": {},
   "source": [
    "# looping"
   ]
  },
  {
   "cell_type": "code",
   "execution_count": 90,
   "id": "58d718a9",
   "metadata": {},
   "outputs": [],
   "source": [
    "my_string = \"python is beautiful!\""
   ]
  },
  {
   "cell_type": "code",
   "execution_count": 91,
   "id": "779adc39",
   "metadata": {},
   "outputs": [
    {
     "name": "stdout",
     "output_type": "stream",
     "text": [
      "p\n",
      "y\n",
      "t\n",
      "h\n",
      "o\n",
      "n\n",
      " \n",
      "i\n",
      "s\n",
      " \n",
      "b\n",
      "e\n",
      "a\n",
      "u\n",
      "t\n",
      "i\n",
      "f\n",
      "u\n",
      "l\n",
      "!\n"
     ]
    }
   ],
   "source": [
    "for string in my_string:\n",
    "     print(string)"
   ]
  },
  {
   "cell_type": "code",
   "execution_count": 142,
   "id": "1563f6b0",
   "metadata": {},
   "outputs": [
    {
     "name": "stdout",
     "output_type": "stream",
     "text": [
      "0\n",
      "1\n",
      "4\n",
      "9\n",
      "16\n",
      "25\n",
      "36\n",
      "49\n",
      "64\n",
      "81\n",
      "100\n",
      "121\n",
      "144\n",
      "169\n",
      "196\n",
      "225\n",
      "256\n",
      "289\n",
      "324\n",
      "361\n"
     ]
    }
   ],
   "source": [
    "for i in range(len(my_string)):\n",
    "     print(i**2)"
   ]
  },
  {
   "cell_type": "code",
   "execution_count": 93,
   "id": "be43f6a4",
   "metadata": {},
   "outputs": [
    {
     "data": {
      "text/plain": [
       "range(0, 20)"
      ]
     },
     "execution_count": 93,
     "metadata": {},
     "output_type": "execute_result"
    }
   ],
   "source": [
    "range(len(my_string))"
   ]
  },
  {
   "cell_type": "code",
   "execution_count": 124,
   "id": "89c80a61",
   "metadata": {},
   "outputs": [
    {
     "name": "stdout",
     "output_type": "stream",
     "text": [
      "-> 0 = p\n",
      "-> 1 = y\n",
      "-> 2 = t\n",
      "-> 3 = h\n",
      "-> 4 = o\n",
      "-> 5 = n\n",
      "-> 6 =  \n",
      "-> 7 = i\n",
      "-> 8 = s\n",
      "-> 9 =  \n",
      "-> 10 = b\n",
      "-> 11 = e\n",
      "-> 12 = a\n",
      "-> 13 = u\n",
      "-> 14 = t\n",
      "-> 15 = i\n",
      "-> 16 = f\n",
      "-> 17 = u\n",
      "-> 18 = l\n",
      "-> 19 = !\n"
     ]
    }
   ],
   "source": [
    "for i in range(len(my_string)):\n",
    "    print(\"->\", i, \"=\", my_string[i])"
   ]
  },
  {
   "cell_type": "code",
   "execution_count": 144,
   "id": "ab95e45b",
   "metadata": {},
   "outputs": [
    {
     "name": "stdout",
     "output_type": "stream",
     "text": [
      "Plase enter the string\n",
      "jashmin\n",
      "Length of string---->  7\n",
      " \n"
     ]
    }
   ],
   "source": [
    "user_string = input('Plase enter the string\\n')\n",
    "\n",
    "print(\"Length of string----> \", len(user_string))\n",
    "print(\" \")"
   ]
  },
  {
   "cell_type": "code",
   "execution_count": 146,
   "id": "49220131",
   "metadata": {},
   "outputs": [
    {
     "name": "stdout",
     "output_type": "stream",
     "text": [
      "String repeated 5 times ---->  jashmin jashmin jashmin jashmin jashmin \n"
     ]
    }
   ],
   "source": [
    "print(\"String repeated 5 times ----> \", (user_string+\" \") * 5)\n"
   ]
  },
  {
   "cell_type": "code",
   "execution_count": 147,
   "id": "e9466597",
   "metadata": {},
   "outputs": [
    {
     "name": "stdout",
     "output_type": "stream",
     "text": [
      "First character of string---->  j\n",
      "Last character of string---->  n\n"
     ]
    }
   ],
   "source": [
    "print(\"First character of string----> \", user_string[0])\n",
    "print(\"Last character of string----> \", user_string[-1])"
   ]
  },
  {
   "cell_type": "code",
   "execution_count": 148,
   "id": "7fe19f7a",
   "metadata": {},
   "outputs": [
    {
     "name": "stdout",
     "output_type": "stream",
     "text": [
      "First three characters of string---->  jas\n",
      "Last three characters of string---->  min\n"
     ]
    }
   ],
   "source": [
    "print(\"First three characters of string----> \", user_string[ 0 : 3 ])\n",
    "print(\"Last three characters of string----> \", user_string[ -3 : ])"
   ]
  },
  {
   "cell_type": "code",
   "execution_count": 149,
   "id": "b05eb2d1",
   "metadata": {},
   "outputs": [
    {
     "name": "stdout",
     "output_type": "stream",
     "text": [
      "String reversed ----> nimhsaj\n"
     ]
    }
   ],
   "source": [
    "print(\"String reversed ---->\", user_string[ : : -1])"
   ]
  },
  {
   "cell_type": "code",
   "execution_count": 150,
   "id": "126d48cd",
   "metadata": {},
   "outputs": [
    {
     "name": "stdout",
     "output_type": "stream",
     "text": [
      "Original string ----> jashmin\n",
      "Modified string ----> jashm\n"
     ]
    }
   ],
   "source": [
    "new_string = user_string[ 0 : len(user_string) - 2]\n",
    "\n",
    "\n",
    "print(\"Original string ---->\", user_string)\n",
    "print(\"Modified string ---->\", new_string)"
   ]
  },
  {
   "cell_type": "code",
   "execution_count": 152,
   "id": "29b3a8d1",
   "metadata": {},
   "outputs": [
    {
     "name": "stdout",
     "output_type": "stream",
     "text": [
      "String reversed ----> jashmi\n"
     ]
    }
   ],
   "source": [
    "print(\"String reversed ---->\", user_string[0:6])"
   ]
  }
 ],
 "metadata": {
  "kernelspec": {
   "display_name": "Python 3 (ipykernel)",
   "language": "python",
   "name": "python3"
  },
  "language_info": {
   "codemirror_mode": {
    "name": "ipython",
    "version": 3
   },
   "file_extension": ".py",
   "mimetype": "text/x-python",
   "name": "python",
   "nbconvert_exporter": "python",
   "pygments_lexer": "ipython3",
   "version": "3.10.10"
  }
 },
 "nbformat": 4,
 "nbformat_minor": 5
}

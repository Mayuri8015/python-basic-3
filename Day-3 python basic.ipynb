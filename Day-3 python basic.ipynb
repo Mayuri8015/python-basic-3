{
 "cells": [
  {
   "cell_type": "code",
   "execution_count": 1,
   "id": "c93cc92e",
   "metadata": {},
   "outputs": [],
   "source": [
    "list_items = [\"hello\",55,67.53,'a',45,\"anand\",\"India\",34.567,98,True,False] "
   ]
  },
  {
   "cell_type": "code",
   "execution_count": 2,
   "id": "ff46154e",
   "metadata": {},
   "outputs": [
    {
     "data": {
      "text/plain": [
       "['hello', 55, 67.53, 'a', 45, 'anand', 'India', 34.567, 98, True, False]"
      ]
     },
     "execution_count": 2,
     "metadata": {},
     "output_type": "execute_result"
    }
   ],
   "source": [
    "list_items"
   ]
  },
  {
   "cell_type": "code",
   "execution_count": 4,
   "id": "ee78eb4b",
   "metadata": {},
   "outputs": [
    {
     "ename": "AttributeError",
     "evalue": "'list' object has no attribute 'replace'",
     "output_type": "error",
     "traceback": [
      "\u001b[1;31m---------------------------------------------------------------------------\u001b[0m",
      "\u001b[1;31mAttributeError\u001b[0m                            Traceback (most recent call last)",
      "Cell \u001b[1;32mIn[4], line 1\u001b[0m\n\u001b[1;32m----> 1\u001b[0m \u001b[43mlist_items\u001b[49m\u001b[38;5;241;43m.\u001b[39;49m\u001b[43mreplace\u001b[49m(\u001b[38;5;241m2\u001b[39m,\u001b[38;5;124m\"\u001b[39m\u001b[38;5;124mFSDA\u001b[39m\u001b[38;5;124m\"\u001b[39m)\n",
      "\u001b[1;31mAttributeError\u001b[0m: 'list' object has no attribute 'replace'"
     ]
    }
   ],
   "source": [
    "list_items.replace(2,\"FSDA\")"
   ]
  },
  {
   "cell_type": "code",
   "execution_count": 5,
   "id": "69f6c0f8",
   "metadata": {},
   "outputs": [],
   "source": [
    "list_items[2] = \"FSDA\" #3 LIST ITEMS ARE MUTABLE I.E I CAN change the elemnts present at any particular index"
   ]
  },
  {
   "cell_type": "code",
   "execution_count": 6,
   "id": "6daad9f5",
   "metadata": {},
   "outputs": [
    {
     "data": {
      "text/plain": [
       "['hello', 55, 'FSDA', 'a', 45, 'anand', 'India', 34.567, 98, True, False]"
      ]
     },
     "execution_count": 6,
     "metadata": {},
     "output_type": "execute_result"
    }
   ],
   "source": [
    "list_items"
   ]
  },
  {
   "cell_type": "code",
   "execution_count": 7,
   "id": "5e7b98d4",
   "metadata": {},
   "outputs": [],
   "source": [
    "list_items[6] = \"Full stack\""
   ]
  },
  {
   "cell_type": "code",
   "execution_count": 8,
   "id": "cfa6e2fa",
   "metadata": {},
   "outputs": [
    {
     "data": {
      "text/plain": [
       "['hello', 55, 'FSDA', 'a', 45, 'anand', 'Full stack', 34.567, 98, True, False]"
      ]
     },
     "execution_count": 8,
     "metadata": {},
     "output_type": "execute_result"
    }
   ],
   "source": [
    "list_items"
   ]
  },
  {
   "cell_type": "code",
   "execution_count": 9,
   "id": "e387edee",
   "metadata": {},
   "outputs": [],
   "source": [
    "## hot favourite question asked in interviw : diufference between append and extend"
   ]
  },
  {
   "cell_type": "markdown",
   "id": "b7402014",
   "metadata": {},
   "source": [
    "# Extent Function"
   ]
  },
  {
   "cell_type": "code",
   "execution_count": 10,
   "id": "21215e20",
   "metadata": {},
   "outputs": [],
   "source": [
    "s = [1,2,3,4,5,6]"
   ]
  },
  {
   "cell_type": "code",
   "execution_count": 11,
   "id": "bfdcdfca",
   "metadata": {},
   "outputs": [
    {
     "data": {
      "text/plain": [
       "[1, 2, 3, 4, 5, 6]"
      ]
     },
     "execution_count": 11,
     "metadata": {},
     "output_type": "execute_result"
    }
   ],
   "source": [
    "s"
   ]
  },
  {
   "cell_type": "code",
   "execution_count": 12,
   "id": "07a52c3e",
   "metadata": {},
   "outputs": [],
   "source": [
    "s.append([5,4,5,6,7]) ## wraps up the elements as it is gets added at the end of the list"
   ]
  },
  {
   "cell_type": "code",
   "execution_count": 13,
   "id": "1d521c05",
   "metadata": {},
   "outputs": [
    {
     "data": {
      "text/plain": [
       "[1, 2, 3, 4, 5, 6, [5, 4, 5, 6, 7]]"
      ]
     },
     "execution_count": 13,
     "metadata": {},
     "output_type": "execute_result"
    }
   ],
   "source": [
    "s"
   ]
  },
  {
   "cell_type": "code",
   "execution_count": 14,
   "id": "3bf07fe3",
   "metadata": {},
   "outputs": [],
   "source": [
    "s.extend([6,7,8,\"dss\"]) ##add elements individually and not together unlike append"
   ]
  },
  {
   "cell_type": "code",
   "execution_count": 15,
   "id": "5fdd3909",
   "metadata": {},
   "outputs": [
    {
     "data": {
      "text/plain": [
       "[1, 2, 3, 4, 5, 6, [5, 4, 5, 6, 7], 6, 7, 8, 'dss']"
      ]
     },
     "execution_count": 15,
     "metadata": {},
     "output_type": "execute_result"
    }
   ],
   "source": [
    "s"
   ]
  },
  {
   "cell_type": "code",
   "execution_count": 17,
   "id": "7cfdef97",
   "metadata": {},
   "outputs": [],
   "source": [
    "s.extend([99])"
   ]
  },
  {
   "cell_type": "markdown",
   "id": "10fd9a9b",
   "metadata": {},
   "source": [
    "# index functoin"
   ]
  },
  {
   "cell_type": "code",
   "execution_count": 18,
   "id": "6c217107",
   "metadata": {},
   "outputs": [
    {
     "data": {
      "text/plain": [
       "[1, 2, 3, 4, 5, 6, [5, 4, 5, 6, 7], 6, 7, 8, 'dss', 99]"
      ]
     },
     "execution_count": 18,
     "metadata": {},
     "output_type": "execute_result"
    }
   ],
   "source": [
    "s"
   ]
  },
  {
   "cell_type": "code",
   "execution_count": 24,
   "id": "4484f2f3",
   "metadata": {},
   "outputs": [
    {
     "data": {
      "text/plain": [
       "3"
      ]
     },
     "execution_count": 24,
     "metadata": {},
     "output_type": "execute_result"
    }
   ],
   "source": [
    "s.index(4)  ## always pick the first occurence"
   ]
  },
  {
   "cell_type": "code",
   "execution_count": 26,
   "id": "46ffdfba",
   "metadata": {},
   "outputs": [
    {
     "data": {
      "text/plain": [
       "10"
      ]
     },
     "execution_count": 26,
     "metadata": {},
     "output_type": "execute_result"
    }
   ],
   "source": [
    "s.index(\"dss\")"
   ]
  },
  {
   "cell_type": "code",
   "execution_count": 29,
   "id": "496e4f68",
   "metadata": {},
   "outputs": [
    {
     "data": {
      "text/plain": [
       "5"
      ]
     },
     "execution_count": 29,
     "metadata": {},
     "output_type": "execute_result"
    }
   ],
   "source": [
    "s.index(6)"
   ]
  },
  {
   "cell_type": "markdown",
   "id": "ac0bfcc7",
   "metadata": {},
   "source": [
    "# Revers function"
   ]
  },
  {
   "cell_type": "code",
   "execution_count": 30,
   "id": "3c8f8dd4",
   "metadata": {},
   "outputs": [],
   "source": [
    "list_items_rev = list_items[::-1]"
   ]
  },
  {
   "cell_type": "code",
   "execution_count": 31,
   "id": "ff4f7706",
   "metadata": {},
   "outputs": [
    {
     "data": {
      "text/plain": [
       "[False, True, 98, 34.567, 'Full stack', 'anand', 45, 'a', 'FSDA', 55, 'hello']"
      ]
     },
     "execution_count": 31,
     "metadata": {},
     "output_type": "execute_result"
    }
   ],
   "source": [
    "list_items_rev"
   ]
  },
  {
   "cell_type": "code",
   "execution_count": 35,
   "id": "c7028b57",
   "metadata": {},
   "outputs": [],
   "source": [
    "list_items.reverse()"
   ]
  },
  {
   "cell_type": "code",
   "execution_count": 36,
   "id": "b5312885",
   "metadata": {},
   "outputs": [
    {
     "data": {
      "text/plain": [
       "['hello', 55, 'FSDA', 'a', 45, 'anand', 'Full stack', 34.567, 98, True, False]"
      ]
     },
     "execution_count": 36,
     "metadata": {},
     "output_type": "execute_result"
    }
   ],
   "source": [
    "list_items"
   ]
  },
  {
   "cell_type": "code",
   "execution_count": 37,
   "id": "f565031c",
   "metadata": {},
   "outputs": [],
   "source": [
    "## if you want to sort the functions \n",
    "list_items2 = [\"anand\",\"anil\",\"yash\",\"Anushka\"]"
   ]
  },
  {
   "cell_type": "code",
   "execution_count": 38,
   "id": "3c5ab23d",
   "metadata": {},
   "outputs": [
    {
     "data": {
      "text/plain": [
       "['anand', 'anil', 'yash', 'Anushka']"
      ]
     },
     "execution_count": 38,
     "metadata": {},
     "output_type": "execute_result"
    }
   ],
   "source": [
    "list_items2"
   ]
  },
  {
   "cell_type": "code",
   "execution_count": 39,
   "id": "ebb66d20",
   "metadata": {},
   "outputs": [
    {
     "name": "stdout",
     "output_type": "stream",
     "text": [
      "None\n"
     ]
    }
   ],
   "source": [
    "print(list_items2.sort(reverse = True))"
   ]
  },
  {
   "cell_type": "code",
   "execution_count": 40,
   "id": "54a4825d",
   "metadata": {},
   "outputs": [
    {
     "ename": "NameError",
     "evalue": "name 'sorted_items' is not defined",
     "output_type": "error",
     "traceback": [
      "\u001b[1;31m---------------------------------------------------------------------------\u001b[0m",
      "\u001b[1;31mNameError\u001b[0m                                 Traceback (most recent call last)",
      "Cell \u001b[1;32mIn[40], line 1\u001b[0m\n\u001b[1;32m----> 1\u001b[0m \u001b[38;5;28mprint\u001b[39m(\u001b[43msorted_items\u001b[49m)\n",
      "\u001b[1;31mNameError\u001b[0m: name 'sorted_items' is not defined"
     ]
    }
   ],
   "source": [
    "print(sorted_items)"
   ]
  },
  {
   "cell_type": "code",
   "execution_count": 41,
   "id": "046affb2",
   "metadata": {},
   "outputs": [
    {
     "data": {
      "text/plain": [
       "[False, True, 98, 34.567, 'Full stack', 'anand', 45, 'a', 'FSDA', 55, 'hello']"
      ]
     },
     "execution_count": 41,
     "metadata": {},
     "output_type": "execute_result"
    }
   ],
   "source": [
    "list_items_rev"
   ]
  },
  {
   "cell_type": "code",
   "execution_count": 42,
   "id": "7ca5bf11",
   "metadata": {},
   "outputs": [
    {
     "name": "stdout",
     "output_type": "stream",
     "text": [
      "None\n"
     ]
    }
   ],
   "source": [
    "print(list_items2.sort())"
   ]
  },
  {
   "cell_type": "markdown",
   "id": "9d46e89d",
   "metadata": {},
   "source": [
    "# short fucntion"
   ]
  },
  {
   "cell_type": "code",
   "execution_count": 43,
   "id": "5217711c",
   "metadata": {},
   "outputs": [],
   "source": [
    "list_items2.sort()"
   ]
  },
  {
   "cell_type": "code",
   "execution_count": 44,
   "id": "01b96cac",
   "metadata": {},
   "outputs": [
    {
     "data": {
      "text/plain": [
       "['Anushka', 'anand', 'anil', 'yash']"
      ]
     },
     "execution_count": 44,
     "metadata": {},
     "output_type": "execute_result"
    }
   ],
   "source": [
    "list_items2"
   ]
  },
  {
   "cell_type": "code",
   "execution_count": 45,
   "id": "45400f93",
   "metadata": {},
   "outputs": [],
   "source": [
    "list3 = [\"mayuri\", \"jasmine\", \"aarti\", \"nikita\"]"
   ]
  },
  {
   "cell_type": "code",
   "execution_count": 47,
   "id": "8de51242",
   "metadata": {},
   "outputs": [],
   "source": [
    "list3.sort()"
   ]
  },
  {
   "cell_type": "code",
   "execution_count": 48,
   "id": "f46ca49b",
   "metadata": {},
   "outputs": [
    {
     "data": {
      "text/plain": [
       "['aarti', 'jasmine', 'mayuri', 'nikita']"
      ]
     },
     "execution_count": 48,
     "metadata": {},
     "output_type": "execute_result"
    }
   ],
   "source": [
    "list3"
   ]
  },
  {
   "cell_type": "code",
   "execution_count": 49,
   "id": "2d277d78",
   "metadata": {},
   "outputs": [],
   "source": [
    "sorted_items_asc = list3.sort()  # 3 reassignment for sort doesnt work"
   ]
  },
  {
   "cell_type": "code",
   "execution_count": 50,
   "id": "dc694554",
   "metadata": {},
   "outputs": [],
   "source": [
    "sorted_items_dsc = list3.sort(reverse = True) #3 reassignment for sort doesnt work"
   ]
  },
  {
   "cell_type": "code",
   "execution_count": 52,
   "id": "a013280d",
   "metadata": {},
   "outputs": [
    {
     "name": "stdout",
     "output_type": "stream",
     "text": [
      "['nikita', 'mayuri', 'jasmine', 'aarti']\n"
     ]
    }
   ],
   "source": [
    "print(list3)"
   ]
  },
  {
   "cell_type": "code",
   "execution_count": 54,
   "id": "d5d86c78",
   "metadata": {},
   "outputs": [
    {
     "data": {
      "text/plain": [
       "['nikita', 'mayuri', 'jasmine', 'aarti']"
      ]
     },
     "execution_count": 54,
     "metadata": {},
     "output_type": "execute_result"
    }
   ],
   "source": [
    "list3"
   ]
  },
  {
   "cell_type": "code",
   "execution_count": 56,
   "id": "e875f7aa",
   "metadata": {},
   "outputs": [],
   "source": [
    "lis_copy = list3.copy()"
   ]
  },
  {
   "cell_type": "code",
   "execution_count": 57,
   "id": "1d1bf391",
   "metadata": {},
   "outputs": [
    {
     "data": {
      "text/plain": [
       "['nikita', 'mayuri', 'jasmine', 'aarti']"
      ]
     },
     "execution_count": 57,
     "metadata": {},
     "output_type": "execute_result"
    }
   ],
   "source": [
    "lis_copy"
   ]
  },
  {
   "cell_type": "code",
   "execution_count": 58,
   "id": "e0239426",
   "metadata": {},
   "outputs": [
    {
     "data": {
      "text/plain": [
       "['nikita', 'mayuri', 'jasmine', 'aarti']"
      ]
     },
     "execution_count": 58,
     "metadata": {},
     "output_type": "execute_result"
    }
   ],
   "source": [
    "list3"
   ]
  },
  {
   "cell_type": "code",
   "execution_count": 59,
   "id": "3705e924",
   "metadata": {},
   "outputs": [],
   "source": [
    "list_items_numbers = [34,5,2,87,12,11,98,22]"
   ]
  },
  {
   "cell_type": "code",
   "execution_count": 60,
   "id": "31547538",
   "metadata": {},
   "outputs": [
    {
     "data": {
      "text/plain": [
       "[2, 5, 11, 12, 22, 34, 87, 98]"
      ]
     },
     "execution_count": 60,
     "metadata": {},
     "output_type": "execute_result"
    }
   ],
   "source": [
    "sorted(list_items_numbers) "
   ]
  },
  {
   "cell_type": "code",
   "execution_count": 62,
   "id": "7e6e8322",
   "metadata": {},
   "outputs": [
    {
     "data": {
      "text/plain": [
       "[98, 87, 34, 22, 12, 11, 5, 2]"
      ]
     },
     "execution_count": 62,
     "metadata": {},
     "output_type": "execute_result"
    }
   ],
   "source": [
    "sorted(list_items_numbers, reverse = True) "
   ]
  },
  {
   "cell_type": "code",
   "execution_count": 63,
   "id": "82a6dedd",
   "metadata": {},
   "outputs": [
    {
     "data": {
      "text/plain": [
       "[34, 5, 2, 87, 12, 11, 98, 22]"
      ]
     },
     "execution_count": 63,
     "metadata": {},
     "output_type": "execute_result"
    }
   ],
   "source": [
    "list_items_numbers ## origina;l one remains intact"
   ]
  },
  {
   "cell_type": "code",
   "execution_count": 75,
   "id": "0ae80ff4",
   "metadata": {},
   "outputs": [],
   "source": [
    "rev_list = list(reversed(list_items_numbers)) #3 need retypecasting to integer for it to woprk"
   ]
  },
  {
   "cell_type": "code",
   "execution_count": 77,
   "id": "d5fbe0fe",
   "metadata": {},
   "outputs": [],
   "source": [
    "rev_list2 = (reversed(list_items_numbers))"
   ]
  },
  {
   "cell_type": "code",
   "execution_count": 78,
   "id": "5cb0164f",
   "metadata": {},
   "outputs": [
    {
     "name": "stdout",
     "output_type": "stream",
     "text": [
      "[22, 98, 11, 12, 87, 2, 5, 34]\n"
     ]
    }
   ],
   "source": [
    "print(rev_list)"
   ]
  },
  {
   "cell_type": "code",
   "execution_count": 86,
   "id": "9ce4b2a0",
   "metadata": {},
   "outputs": [
    {
     "ename": "TypeError",
     "evalue": "list.count() takes exactly one argument (0 given)",
     "output_type": "error",
     "traceback": [
      "\u001b[1;31m---------------------------------------------------------------------------\u001b[0m",
      "\u001b[1;31mTypeError\u001b[0m                                 Traceback (most recent call last)",
      "Cell \u001b[1;32mIn[86], line 1\u001b[0m\n\u001b[1;32m----> 1\u001b[0m \u001b[43mlist3\u001b[49m\u001b[38;5;241;43m.\u001b[39;49m\u001b[43mcount\u001b[49m\u001b[43m(\u001b[49m\u001b[43m)\u001b[49m\n",
      "\u001b[1;31mTypeError\u001b[0m: list.count() takes exactly one argument (0 given)"
     ]
    }
   ],
   "source": [
    "list3.count()"
   ]
  },
  {
   "cell_type": "code",
   "execution_count": 90,
   "id": "a2317e0e",
   "metadata": {},
   "outputs": [],
   "source": [
    "list4 = [2,3,5,7,9,11,13,17,19,21]"
   ]
  },
  {
   "cell_type": "code",
   "execution_count": 91,
   "id": "fef742b9",
   "metadata": {},
   "outputs": [
    {
     "data": {
      "text/plain": [
       "11"
      ]
     },
     "execution_count": 91,
     "metadata": {},
     "output_type": "execute_result"
    }
   ],
   "source": [
    "list4.pop(5)"
   ]
  },
  {
   "cell_type": "code",
   "execution_count": 92,
   "id": "74014bac",
   "metadata": {},
   "outputs": [
    {
     "data": {
      "text/plain": [
       "[2, 3, 5, 7, 9, 13, 17, 19, 21]"
      ]
     },
     "execution_count": 92,
     "metadata": {},
     "output_type": "execute_result"
    }
   ],
   "source": [
    "list4"
   ]
  },
  {
   "cell_type": "code",
   "execution_count": 93,
   "id": "f35337cc",
   "metadata": {},
   "outputs": [
    {
     "name": "stdout",
     "output_type": "stream",
     "text": [
      "This is first line\n"
     ]
    }
   ],
   "source": [
    "print(\"This\", \"is\", \"first\", \"line\")"
   ]
  },
  {
   "cell_type": "code",
   "execution_count": 94,
   "id": "154ee1e7",
   "metadata": {},
   "outputs": [
    {
     "name": "stdout",
     "output_type": "stream",
     "text": [
      "This, is, first, line\n"
     ]
    }
   ],
   "source": [
    "print(\"This,\", \"is,\", \"first,\", \"line\")"
   ]
  },
  {
   "cell_type": "code",
   "execution_count": 101,
   "id": "9779d1fc",
   "metadata": {},
   "outputs": [
    {
     "name": "stdout",
     "output_type": "stream",
     "text": [
      "This $ is $ first $ line\n"
     ]
    }
   ],
   "source": [
    "print(\"This\", \"is\", \"first\", \"line\", sep= \" $ \")"
   ]
  },
  {
   "cell_type": "code",
   "execution_count": 102,
   "id": "0c496b3b",
   "metadata": {},
   "outputs": [
    {
     "name": "stdout",
     "output_type": "stream",
     "text": [
      "this is first line\n",
      "this is second line\n"
     ]
    }
   ],
   "source": [
    "print(\"this is first line\")\n",
    "print(\"this is second line\")"
   ]
  },
  {
   "cell_type": "code",
   "execution_count": 105,
   "id": "b6796233",
   "metadata": {},
   "outputs": [
    {
     "name": "stdout",
     "output_type": "stream",
     "text": [
      "this is first line.this is second line\n"
     ]
    }
   ],
   "source": [
    "print(\"this is first line\", end='.')\n",
    "print(\"this is second line\")"
   ]
  },
  {
   "cell_type": "code",
   "execution_count": 106,
   "id": "1aec01ad",
   "metadata": {},
   "outputs": [
    {
     "ename": "SyntaxError",
     "evalue": "invalid syntax (3310241707.py, line 1)",
     "output_type": "error",
     "traceback": [
      "\u001b[1;36m  Cell \u001b[1;32mIn[106], line 1\u001b[1;36m\u001b[0m\n\u001b[1;33m    *\u001b[0m\n\u001b[1;37m     ^\u001b[0m\n\u001b[1;31mSyntaxError\u001b[0m\u001b[1;31m:\u001b[0m invalid syntax\n"
     ]
    }
   ],
   "source": [
    "*\n",
    "**\n",
    "***\n",
    "****\n",
    "*****"
   ]
  },
  {
   "cell_type": "code",
   "execution_count": 116,
   "id": "9dda7bf5",
   "metadata": {},
   "outputs": [
    {
     "name": "stdout",
     "output_type": "stream",
     "text": [
      "#  * #  * #  * #  * #  * \n",
      "\n",
      "#  * #  * #  * #  * #  * #  * \n",
      "\n",
      "#  * #  * #  * #  * #  * #  * #  * \n",
      "\n",
      "#  * #  * #  * #  * #  * #  * #  * #  * \n",
      "\n"
     ]
    }
   ],
   "source": [
    "### i is for number of rows\n",
    "for i in range(4,8):\n",
    "    for j in range(0,i+1): ## j is for number of columns\n",
    "        print(\"#\",end=\"  * \")\n",
    "    print(\"\\n\")   ## line after each line  "
   ]
  },
  {
   "cell_type": "code",
   "execution_count": 129,
   "id": "81d07a13",
   "metadata": {},
   "outputs": [],
   "source": [
    "list_1 = [1,2,3,4,5,6,7,8,9]\n",
    "list_2 = [\"a\",\"b\",\"c\"]"
   ]
  },
  {
   "cell_type": "code",
   "execution_count": 137,
   "id": "1ee4254b",
   "metadata": {},
   "outputs": [
    {
     "name": "stdout",
     "output_type": "stream",
     "text": [
      "a1 * b1 * c1 * 1 2 3 \n",
      "\n",
      "a1 * b1 * c1 * 2 3 4 \n",
      "\n",
      "a1 * b1 * c1 * 3 4 5 \n",
      "\n",
      "a1 * b1 * c1 * 4 5 6 \n",
      "\n",
      "a1 * b1 * c1 * 5 6 7 \n",
      "\n",
      "a1 * b1 * c1 * 6 7 8 \n",
      "\n",
      "a1 * b1 * c1 * 7 8 9 \n",
      "\n",
      "a1 * b1 * c1 * 8 9 10 \n",
      "\n",
      "a1 * b1 * c1 * 9 10 11 \n",
      "\n"
     ]
    }
   ],
   "source": [
    "for i in list_1:\n",
    "    for j in list_2:\n",
    "        print(j+\"1\", end=\" * \")\n",
    "    print(i, i+1, i+2, \"\\n\")\n",
    "     \n",
    "        "
   ]
  },
  {
   "cell_type": "code",
   "execution_count": 138,
   "id": "da39fe7f",
   "metadata": {},
   "outputs": [
    {
     "name": "stdout",
     "output_type": "stream",
     "text": [
      "What is your name?amit\n"
     ]
    }
   ],
   "source": [
    "a = input('What is your name?')"
   ]
  },
  {
   "cell_type": "code",
   "execution_count": 140,
   "id": "d044ff3f",
   "metadata": {},
   "outputs": [
    {
     "name": "stdout",
     "output_type": "stream",
     "text": [
      "Enter 1st num12\n",
      "22\n"
     ]
    }
   ],
   "source": [
    "num1 = int(input(\"Enter 1st num\"))\n",
    "num2 = int(input())"
   ]
  },
  {
   "cell_type": "code",
   "execution_count": 144,
   "id": "49846793",
   "metadata": {},
   "outputs": [
    {
     "name": "stdout",
     "output_type": "stream",
     "text": [
      "What is your name ?  nikita\n",
      "Welcome   nikita\n"
     ]
    }
   ],
   "source": [
    "name = input('What is your name ?')\n",
    "print(\"Welcome\", name)"
   ]
  },
  {
   "cell_type": "code",
   "execution_count": 149,
   "id": "da055422",
   "metadata": {},
   "outputs": [
    {
     "name": "stdout",
     "output_type": "stream",
     "text": [
      "What is your age?20\n",
      "You have entered age as  20\n",
      "Type :  <class 'str'>\n"
     ]
    }
   ],
   "source": [
    "age = input('What is your age?')\n",
    "print(\"You have entered age as \", age)\n",
    "print(\"Type : \" , type(age))"
   ]
  },
  {
   "cell_type": "code",
   "execution_count": 152,
   "id": "e1e76ead",
   "metadata": {},
   "outputs": [
    {
     "name": "stdout",
     "output_type": "stream",
     "text": [
      "What is your salary?20000\n",
      "You have entered salary as  20000.0\n",
      "Type :  <class 'float'>\n"
     ]
    }
   ],
   "source": [
    "salary = input('What is your salary?')\n",
    "modified_salary = float(salary)\n",
    "print(\"You have entered salary as \", modified_salary)\n",
    "print(\"Type : \" , type(modified_salary))"
   ]
  },
  {
   "cell_type": "code",
   "execution_count": 156,
   "id": "1120ee9d",
   "metadata": {},
   "outputs": [
    {
     "name": "stdout",
     "output_type": "stream",
     "text": [
      "What is your age?\n",
      "20\n",
      "You have entered age as  20\n",
      "Type :  <class 'int'>\n"
     ]
    }
   ],
   "source": [
    "my_age = eval(input('What is your age?\\n'))\n",
    "print(\"You have entered age as \", my_age)\n",
    "print(\"Type : \" , type(my_age))"
   ]
  },
  {
   "cell_type": "code",
   "execution_count": 158,
   "id": "336e6c68",
   "metadata": {},
   "outputs": [
    {
     "name": "stdout",
     "output_type": "stream",
     "text": [
      "What is your salary?\n",
      "\"salary\"\n",
      "You have entered salary as  salary\n",
      "Type :  <class 'str'>\n"
     ]
    }
   ],
   "source": [
    "my_salary = eval(input('What is your salary?\\n'))\n",
    "print(\"You have entered salary as \", my_salary)\n",
    "print(\"Type : \" , type(my_salary))"
   ]
  },
  {
   "cell_type": "code",
   "execution_count": 162,
   "id": "23251b09",
   "metadata": {},
   "outputs": [
    {
     "name": "stdout",
     "output_type": "stream",
     "text": [
      "Enter your marks\n",
      "20+ 20+20-40\n",
      "You have entered age as  20\n"
     ]
    }
   ],
   "source": [
    "my_total_marks = eval(input('Enter your marks\\n')) #Enter an expression like 23 + 34 + 45 \n",
    "print(\"You have entered age as \", my_total_marks)"
   ]
  },
  {
   "cell_type": "code",
   "execution_count": 163,
   "id": "6f907279",
   "metadata": {},
   "outputs": [
    {
     "name": "stdout",
     "output_type": "stream",
     "text": [
      "Enter the number : 10\n",
      "Square of 10 is :  100\n",
      "Cube of 10 is :  1000\n"
     ]
    }
   ],
   "source": [
    "#Try it here\n",
    "ask_num = eval(input('Enter the number : '))\n",
    "sq_num = ask_num * ask_num\n",
    "cub_num = pow(ask_num,3)\n",
    "\n",
    "print('Square of ' + str(ask_num) + ' is : ' , str(sq_num))\n",
    "print('Cube of ' + str(ask_num) + ' is : ' , str(cub_num))"
   ]
  },
  {
   "cell_type": "code",
   "execution_count": 166,
   "id": "c91307d2",
   "metadata": {},
   "outputs": [
    {
     "name": "stdout",
     "output_type": "stream",
     "text": [
      "Enter the number : 30\n",
      "Square of 30 is :  900\n",
      "Cube of 30 is :  27000\n"
     ]
    }
   ],
   "source": [
    "ask_num = eval(input('Enter the number : '))\n",
    "sq_num = ask_num **2\n",
    "cub_num = ask_num **3\n",
    "\n",
    "print('Square of ' + str(ask_num) + ' is : ' , str(sq_num))\n",
    "print('Cube of ' + str(ask_num) + ' is : ' , str(cub_num))"
   ]
  },
  {
   "cell_type": "code",
   "execution_count": 169,
   "id": "f0b1fb4f",
   "metadata": {},
   "outputs": [
    {
     "name": "stdout",
     "output_type": "stream",
     "text": [
      "Enter 1st Number : 10\n",
      "Enter 2nd Number : 20\n",
      "Enter 3rd Number : 30\n",
      "Numbers entered are : 10 20 30 and their totals are : 60 and avg is : 20.0 and their multiplication : 6000\n"
     ]
    }
   ],
   "source": [
    "#Try it here\n",
    "num1 = eval(input('Enter 1st Number : '))\n",
    "num2 = eval(input('Enter 2nd Number : '))\n",
    "num3 = eval(input('Enter 3rd Number : '))\n",
    "multi = num1 * num2 *num3\n",
    "\n",
    "total = num1 + num2 + num3\n",
    "\n",
    "avg = total/3\n",
    "\n",
    "print(\"Numbers entered are : \" + str(num1) + \" \" +str(num2) + \" \" + str(num3) + \n",
    "      \" and their totals are : \" + str(total) + \" and avg is : \" + str(avg) +\n",
    "     \" and their multiplication : \" + str(multi))"
   ]
  },
  {
   "cell_type": "code",
   "execution_count": 171,
   "id": "21031060",
   "metadata": {},
   "outputs": [
    {
     "name": "stdout",
     "output_type": "stream",
     "text": [
      "Enter basic salary: 5000\n",
      "HRA Components :  500.0\n",
      "Conveyance  Allowance :  3500\n",
      "Total Salary :  9000.0\n"
     ]
    }
   ],
   "source": [
    "#Try it here\n",
    "basic_sal = eval(input('Enter basic salary: '))\n",
    "\n",
    "hra = 0.1 * basic_sal\n",
    "\n",
    "conv_allw = 3500\n",
    "\n",
    "total_sal = basic_sal + hra + conv_allw\n",
    "\n",
    "\n",
    "print(\"HRA Components : \", str(hra))\n",
    "print(\"Conveyance  Allowance : \" , str(conv_allw))\n",
    "print(\"Total Salary : \" ,str(total_sal))"
   ]
  },
  {
   "cell_type": "code",
   "execution_count": null,
   "id": "184a570a",
   "metadata": {},
   "outputs": [],
   "source": []
  }
 ],
 "metadata": {
  "kernelspec": {
   "display_name": "Python 3 (ipykernel)",
   "language": "python",
   "name": "python3"
  },
  "language_info": {
   "codemirror_mode": {
    "name": "ipython",
    "version": 3
   },
   "file_extension": ".py",
   "mimetype": "text/x-python",
   "name": "python",
   "nbconvert_exporter": "python",
   "pygments_lexer": "ipython3",
   "version": "3.10.10"
  }
 },
 "nbformat": 4,
 "nbformat_minor": 5
}
